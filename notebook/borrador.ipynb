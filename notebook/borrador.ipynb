{
 "cells": [
  {
   "cell_type": "code",
   "execution_count": 29,
   "metadata": {},
   "outputs": [],
   "source": [
    "from sklearn.feature_extraction.text import TfidfVectorizer\n",
    "from sklearn.metrics.pairwise import cosine_similarity\n",
    "import pandas as pd\n",
    "\n",
    "# Suponiendo que los datos están en un DataFrame llamado 'data' y tienen columnas 'title' y 'genre'\n",
    "data = pd.read_csv('./Data/Recomendacion.csv')\n",
    "data = data.head(6000)"
   ]
  },
  {
   "cell_type": "code",
   "execution_count": 30,
   "metadata": {},
   "outputs": [],
   "source": [
    "# Paso 1: Preprocesamiento\n",
    "data['title'] = data['title'].str.lower()  # Convertir títulos a minúsculas\n",
    "data['genres'] = data['genres'].str.lower()  # Convertir géneros a minúsculas\n"
   ]
  },
  {
   "cell_type": "code",
   "execution_count": 31,
   "metadata": {},
   "outputs": [],
   "source": [
    "# Paso 2: Combinar las columnas 'title' y 'genre'\n",
    "data['combined_features'] = data['title'] + \" \" + data['genres']\n",
    "data['combined_features'] = data['combined_features'].fillna('None')"
   ]
  },
  {
   "cell_type": "code",
   "execution_count": 32,
   "metadata": {},
   "outputs": [],
   "source": [
    "# Paso 3: Crear la matriz TF-IDF basada en la columna combinada\n",
    "tfidf = TfidfVectorizer(stop_words='english')\n",
    "tfidf_matrix = tfidf.fit_transform(data['combined_features'])"
   ]
  },
  {
   "cell_type": "code",
   "execution_count": 33,
   "metadata": {},
   "outputs": [],
   "source": [
    "# Paso 4: Calcular la similitud del coseno\n",
    "cosine_sim = cosine_similarity(tfidf_matrix, tfidf_matrix)"
   ]
  },
  {
   "cell_type": "code",
   "execution_count": 34,
   "metadata": {},
   "outputs": [],
   "source": [
    "def recomendacion(titulo: str):\n",
    "    # Asegúrate de que los títulos están en minúsculas para facilitar la comparación\n",
    "    data['title'] = data['title'].str.lower()\n",
    "\n",
    "    # Verificar si el título existe en el dataset\n",
    "    if titulo.lower() not in data['title'].values:\n",
    "        return {\"error\": \"Título no encontrado.\"}\n",
    "\n",
    "    # Obtener el índice de la película que coincide con el título\n",
    "    idx = data[data['title'] == titulo.lower()].index[0]\n",
    "\n",
    "    # Obtener las similitudes para la película seleccionada\n",
    "    sim_scores = list(enumerate(cosine_sim[idx]))\n",
    "\n",
    "    # Ordenar las películas por similitud\n",
    "    sim_scores = sorted(sim_scores, key=lambda x: x[1], reverse=True)\n",
    "\n",
    "    # Obtener los índices de las 5 películas más similares (excluyendo la película misma)\n",
    "    similar_indices = [i[0] for i in sim_scores[1:6]]\n",
    "\n",
    "    # Obtener los títulos de las películas similares\n",
    "    similar_movies = data['title'].iloc[similar_indices].tolist()\n",
    "\n",
    "    return {\"recomendaciones\": similar_movies}"
   ]
  },
  {
   "cell_type": "code",
   "execution_count": 35,
   "metadata": {},
   "outputs": [
    {
     "data": {
      "text/html": [
       "<div>\n",
       "<style scoped>\n",
       "    .dataframe tbody tr th:only-of-type {\n",
       "        vertical-align: middle;\n",
       "    }\n",
       "\n",
       "    .dataframe tbody tr th {\n",
       "        vertical-align: top;\n",
       "    }\n",
       "\n",
       "    .dataframe thead th {\n",
       "        text-align: right;\n",
       "    }\n",
       "</style>\n",
       "<table border=\"1\" class=\"dataframe\">\n",
       "  <thead>\n",
       "    <tr style=\"text-align: right;\">\n",
       "      <th></th>\n",
       "      <th>title</th>\n",
       "      <th>genres</th>\n",
       "      <th>combined_features</th>\n",
       "    </tr>\n",
       "  </thead>\n",
       "  <tbody>\n",
       "    <tr>\n",
       "      <th>0</th>\n",
       "      <td>toy story</td>\n",
       "      <td>animation, comedy, family</td>\n",
       "      <td>toy story animation, comedy, family</td>\n",
       "    </tr>\n",
       "    <tr>\n",
       "      <th>1</th>\n",
       "      <td>jumanji</td>\n",
       "      <td>adventure, fantasy, family</td>\n",
       "      <td>jumanji adventure, fantasy, family</td>\n",
       "    </tr>\n",
       "    <tr>\n",
       "      <th>2</th>\n",
       "      <td>grumpier old men</td>\n",
       "      <td>romance, comedy</td>\n",
       "      <td>grumpier old men romance, comedy</td>\n",
       "    </tr>\n",
       "    <tr>\n",
       "      <th>3</th>\n",
       "      <td>waiting to exhale</td>\n",
       "      <td>comedy, drama, romance</td>\n",
       "      <td>waiting to exhale comedy, drama, romance</td>\n",
       "    </tr>\n",
       "    <tr>\n",
       "      <th>4</th>\n",
       "      <td>father of the bride part ii</td>\n",
       "      <td>comedy</td>\n",
       "      <td>father of the bride part ii comedy</td>\n",
       "    </tr>\n",
       "    <tr>\n",
       "      <th>...</th>\n",
       "      <td>...</td>\n",
       "      <td>...</td>\n",
       "      <td>...</td>\n",
       "    </tr>\n",
       "    <tr>\n",
       "      <th>5995</th>\n",
       "      <td>tag: the assassination game</td>\n",
       "      <td>thriller</td>\n",
       "      <td>tag: the assassination game thriller</td>\n",
       "    </tr>\n",
       "    <tr>\n",
       "      <th>5996</th>\n",
       "      <td>tempest</td>\n",
       "      <td>comedy, drama, romance</td>\n",
       "      <td>tempest comedy, drama, romance</td>\n",
       "    </tr>\n",
       "    <tr>\n",
       "      <th>5997</th>\n",
       "      <td>tenebre</td>\n",
       "      <td>horror, mystery, thriller</td>\n",
       "      <td>tenebre horror, mystery, thriller</td>\n",
       "    </tr>\n",
       "    <tr>\n",
       "      <th>5998</th>\n",
       "      <td>they call me bruce?</td>\n",
       "      <td>action, comedy, thriller</td>\n",
       "      <td>they call me bruce? action, comedy, thriller</td>\n",
       "    </tr>\n",
       "    <tr>\n",
       "      <th>5999</th>\n",
       "      <td>time walker</td>\n",
       "      <td>horror, science fiction</td>\n",
       "      <td>time walker horror, science fiction</td>\n",
       "    </tr>\n",
       "  </tbody>\n",
       "</table>\n",
       "<p>6000 rows × 3 columns</p>\n",
       "</div>"
      ],
      "text/plain": [
       "                            title                      genres  \\\n",
       "0                       toy story   animation, comedy, family   \n",
       "1                         jumanji  adventure, fantasy, family   \n",
       "2                grumpier old men             romance, comedy   \n",
       "3               waiting to exhale      comedy, drama, romance   \n",
       "4     father of the bride part ii                      comedy   \n",
       "...                           ...                         ...   \n",
       "5995  tag: the assassination game                    thriller   \n",
       "5996                      tempest      comedy, drama, romance   \n",
       "5997                      tenebre   horror, mystery, thriller   \n",
       "5998          they call me bruce?    action, comedy, thriller   \n",
       "5999                  time walker     horror, science fiction   \n",
       "\n",
       "                                 combined_features  \n",
       "0              toy story animation, comedy, family  \n",
       "1               jumanji adventure, fantasy, family  \n",
       "2                 grumpier old men romance, comedy  \n",
       "3         waiting to exhale comedy, drama, romance  \n",
       "4               father of the bride part ii comedy  \n",
       "...                                            ...  \n",
       "5995          tag: the assassination game thriller  \n",
       "5996                tempest comedy, drama, romance  \n",
       "5997             tenebre horror, mystery, thriller  \n",
       "5998  they call me bruce? action, comedy, thriller  \n",
       "5999           time walker horror, science fiction  \n",
       "\n",
       "[6000 rows x 3 columns]"
      ]
     },
     "execution_count": 35,
     "metadata": {},
     "output_type": "execute_result"
    }
   ],
   "source": [
    "data"
   ]
  },
  {
   "cell_type": "code",
   "execution_count": null,
   "metadata": {},
   "outputs": [],
   "source": [
    "recomendacion('Toy ')"
   ]
  }
 ],
 "metadata": {
  "kernelspec": {
   "display_name": "Proyecto_Individual",
   "language": "python",
   "name": "python3"
  },
  "language_info": {
   "codemirror_mode": {
    "name": "ipython",
    "version": 3
   },
   "file_extension": ".py",
   "mimetype": "text/x-python",
   "name": "python",
   "nbconvert_exporter": "python",
   "pygments_lexer": "ipython3",
   "version": "3.12.4"
  }
 },
 "nbformat": 4,
 "nbformat_minor": 2
}
